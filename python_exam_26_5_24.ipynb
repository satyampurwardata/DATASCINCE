{
 "cells": [
  {
   "cell_type": "code",
   "execution_count": 4,
   "id": "b92328aa-40db-4c8f-a3fc-cb2ecac7bfea",
   "metadata": {},
   "outputs": [
    {
     "name": "stdin",
     "output_type": "stream",
     "text": [
      "Enter Your gender \"male\" or \"female\": maleasdasd\n",
      "Enter your  birth year: 464\n",
      "you are a smoker place 'yes'  otherwise 'no': sad\n"
     ]
    },
    {
     "name": "stdout",
     "output_type": "stream",
     "text": [
      "Please enter male or female in gender\n"
     ]
    }
   ],
   "source": [
    "def Health_premium_calculator(gender,year_of_birth,smoker):\n",
    "    if gender == 'male':\n",
    "        if 1990 < year_of_birth < 2000:\n",
    "            if smoker == 'yes':\n",
    "                premium_price = 35000\n",
    "            elif smoker == 'no':\n",
    "                premium_price = 35000 - ((35000*10)/100)\n",
    "            else:\n",
    "                return \"please yes or no in smoker\"\n",
    "        elif 1970 < year_of_birth <1990:\n",
    "            if smoker == 'yes':\n",
    "                premium_price =40000\n",
    "            elif smoker == 'no':\n",
    "                premium_price = 40000 - ((40000*5)/100)\n",
    "            else:\n",
    "                return \"please yes or no in smoker\"\n",
    "        else:\n",
    "            return \"Premium Price is not available for this criteria\"\n",
    "    elif gender == 'female':\n",
    "        if 1990 < year_of_birth < 2000:\n",
    "            if smoker == 'yes':\n",
    "                premium_price = 30000\n",
    "            elif smoker == 'no':\n",
    "                premium_price = 30000 - ((30000*10)/100)\n",
    "            else:\n",
    "                return \"please yes or no in smoker\"\n",
    "        elif 1970 < year_of_birth <1990:\n",
    "            if smoker == 'yes':\n",
    "                premium_price =35000\n",
    "            elif smoker == 'no':\n",
    "                premium_price = 35000 - ((35000*5)/100)\n",
    "            else:\n",
    "                return \"please yes or no in smoker\"\n",
    "        else:\n",
    "            return \"Premium Price is not available for this criteria\"\n",
    "    else:\n",
    "        return \"Please enter male or female in gender\"\n",
    "    return f\"as your details your premium price is {premium_price}\" \n",
    "\n",
    "\n",
    "\n",
    "gender = input('Enter Your gender \"male\" or \"female\":')\n",
    "year_of_birth = int(input(\"Enter your  birth year:\"))\n",
    "smoker = input(\"you are a smoker place 'yes'  otherwise 'no':\")\n",
    "\n",
    "premium_calculator = Health_premium_calculator(gender,year_of_birth,smoker)\n",
    "print(premium_calculator)\n"
   ]
  },
  {
   "cell_type": "code",
   "execution_count": null,
   "id": "90b4c51c-ca40-467b-8b6e-2c31bd2fc34c",
   "metadata": {},
   "outputs": [],
   "source": []
  }
 ],
 "metadata": {
  "kernelspec": {
   "display_name": "Python 3 (ipykernel)",
   "language": "python",
   "name": "python3"
  },
  "language_info": {
   "codemirror_mode": {
    "name": "ipython",
    "version": 3
   },
   "file_extension": ".py",
   "mimetype": "text/x-python",
   "name": "python",
   "nbconvert_exporter": "python",
   "pygments_lexer": "ipython3",
   "version": "3.11.7"
  }
 },
 "nbformat": 4,
 "nbformat_minor": 5
}
